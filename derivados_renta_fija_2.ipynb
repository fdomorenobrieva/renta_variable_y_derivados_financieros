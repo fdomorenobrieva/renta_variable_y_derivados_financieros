{
  "nbformat": 4,
  "nbformat_minor": 0,
  "metadata": {
    "colab": {
      "provenance": [],
      "authorship_tag": "ABX9TyM6PhS0a+yLbNPrLOAxth6Q",
      "include_colab_link": true
    },
    "kernelspec": {
      "name": "python3",
      "display_name": "Python 3"
    },
    "language_info": {
      "name": "python"
    }
  },
  "cells": [
    {
      "cell_type": "markdown",
      "metadata": {
        "id": "view-in-github",
        "colab_type": "text"
      },
      "source": [
        "<a href=\"https://colab.research.google.com/github/fdomorenobrieva/renta_variable_y_derivados_financieros/blob/main/derivados_renta_fija_2.ipynb\" target=\"_parent\"><img src=\"https://colab.research.google.com/assets/colab-badge.svg\" alt=\"Open In Colab\"/></a>"
      ]
    },
    {
      "cell_type": "markdown",
      "source": [
        "# Calcular el precio de un bono"
      ],
      "metadata": {
        "id": "IC20jinpgyjX"
      }
    },
    {
      "cell_type": "markdown",
      "source": [
        "## Supongamos un bono con las siguientes características:\n",
        "* Nominal = 1000 €\n",
        "* Cupón (anual) = 10%\n",
        "* Madura (vencimiento) en el quinto año\n",
        "* Tir (r) = 8%\n",
        "\n",
        "## Se pide:\n",
        "* (1) Calcular el precio del bono.\n",
        "* (2) Comprobar que la Tir coincide con el dato proporcionado.\n"
      ],
      "metadata": {
        "id": "LhyNo7hxg2Q8"
      }
    },
    {
      "cell_type": "code",
      "source": [
        "# prompt: pip install numpy-financial\n",
        "\n",
        "!pip install numpy-financial\n",
        "\n",
        "import numpy_financial as npf\n",
        "\n",
        "# Datos del bono\n",
        "nominal = 1000\n",
        "cupon = 0.10\n",
        "años = 5\n",
        "tir = 0.08\n",
        "\n",
        "# Calcular el precio del bono\n",
        "precio = npf.pv(tir, años, nominal * cupon, nominal)\n",
        "\n",
        "# Imprimir el precio del bono\n",
        "print(\"El precio del bono es:\", precio)\n",
        "\n",
        "\n",
        "# Comprobar la TIR\n",
        "tir_calculada = npf.irr([-precio] + [nominal * cupon] * (años - 1) + [nominal + nominal * cupon])\n",
        "\n",
        "# Imprimir la TIR calculada\n",
        "print(\"La TIR calculada es:\", tir_calculada)\n",
        "\n",
        "# Comprobar que la TIR coincide con el dato proporcionado\n",
        "print(\"La TIR coincide con el dato proporcionado:\", abs(tir_calculada-tir)<1e-6)\n"
      ],
      "metadata": {
        "colab": {
          "base_uri": "https://localhost:8080/"
        },
        "id": "8sSYdE1ghXgu",
        "outputId": "7a7b7cac-6505-4d99-a5f2-ccda2665244b"
      },
      "execution_count": null,
      "outputs": [
        {
          "output_type": "stream",
          "name": "stdout",
          "text": [
            "Collecting numpy-financial\n",
            "  Downloading numpy_financial-1.0.0-py3-none-any.whl.metadata (2.2 kB)\n",
            "Requirement already satisfied: numpy>=1.15 in /usr/local/lib/python3.10/dist-packages (from numpy-financial) (1.26.4)\n",
            "Downloading numpy_financial-1.0.0-py3-none-any.whl (14 kB)\n",
            "Installing collected packages: numpy-financial\n",
            "Successfully installed numpy-financial-1.0.0\n",
            "El precio del bono es: -1079.8542007415617\n",
            "La TIR calculada es: nan\n",
            "La TIR coincide con el dato proporcionado: False\n"
          ]
        }
      ]
    },
    {
      "cell_type": "code",
      "source": [
        "import numpy_financial as npf\n",
        "#DATOS DEL BONO\n",
        "nominal = 1000\n",
        "cupón = 0.1  #tasa cupón anual\n",
        "n = 5  #años\n",
        "r = 0.08   #en proporciones\n",
        "# FLUJOS DE CAJA\n",
        "flujos = [0] # el cero es para indicar donde se inicia el array, significa que el primer número es 0\n",
        "for i in range (1, n+1):    # i = cupón, desde 1 hasta el n+1 (por un tema de Phyton)\n",
        "\tif i < n:\t\t\t#si el cupón que se trata no es el último\n",
        "\t\tflujos.append(cupon * nominal) #para añadir el cupón en euros en cada año\n",
        "\telif i == n:\t\t\t# elif = y en otro caso    == significa igual cuando se compara algo\n",
        "\t\tflujos.append(cupon * nominal + nominal)\n",
        "print(\"flujos de caja: \", flujos)\n",
        "\n",
        "# CALCULAR EL PRECIO DEL BONO\n",
        "precio = 0 \t\t\t\t# inicializo la variable precio en cero\n",
        "for i in range (1, n + 1):\n",
        "\tprecio += flujos [i] / (1+r)**i\t# += el precio es igual al precio antigua más el sumado\n",
        "print(\"Precio del bono: \", precio)\n",
        "bono = flujos [:]\t\t\t\t# [:] permite copiar los flujos como un array diferente\n",
        "bono[0] = -precio \t\t\t# con signo negativo para considerarlo como inversión inicial\n",
        "\n",
        "# COMPROBAR QUE LA TIR = r = 8%\n",
        "tir = npf.irr(bono)\t\t\t#npf.irr es la librería de la Tir (en inglés)\n",
        "print(f\"La TIR del bono es: {tir:.2%}\")   # . Separador de decimales en inglés\n",
        "\n"
      ],
      "metadata": {
        "colab": {
          "base_uri": "https://localhost:8080/"
        },
        "id": "RG0_tB_xhrQg",
        "outputId": "d317427c-2869-4112-a46b-a5c60f08c87d"
      },
      "execution_count": null,
      "outputs": [
        {
          "output_type": "stream",
          "name": "stdout",
          "text": [
            "flujos de caja:  [0, 100.0, 100.0, 100.0, 100.0, 1100.0]\n",
            "Precio del bono:  1079.8542007415613\n",
            "La TIR del bono es: 8.00%\n"
          ]
        }
      ]
    },
    {
      "cell_type": "markdown",
      "source": [
        "# Precio utilizando la ETTI\n",
        "\n",
        "## Supongamos un bono con las siguientes características:\n",
        "* Nominal = 1000 €\n",
        "* Cupón (anual) = 10%\n",
        "* Madura (vencimiento) en el quinto año\n",
        "* La ETTI para los diferentes años es:\n",
        "\t- año 1: 2%\n",
        "\t- año 2: 4%\n",
        "\t- año 3: 6%\n",
        "\t- año 4: 8%\n",
        "\t- año 5: 10%\n",
        "\n",
        "## Se pide:\n",
        "* (1) Calcular el precio del bono.\n",
        "* (2) Calcular la Tir.\n"
      ],
      "metadata": {
        "id": "9PIx1TyUQovC"
      }
    },
    {
      "cell_type": "code",
      "source": [
        "import numpy_financial as npf\n",
        "#DATOS DEL BONO\n",
        "nominal = 1000\n",
        "cupón = 0.1  \t#tasa cupón anual\n",
        "n = 5  \t \t# años\n",
        "r01 = 0.02   \t#ETTI del año 1\n",
        "r02 = 0.04\n",
        "r03 = 0.06\n",
        "r04 = 0.08\n",
        "r05 = 0.10\n",
        "etti = [r01, r02, r03, r04, r05]\n",
        "\n",
        "# FLUJOS DE CAJA\n",
        "flujos = [0] # el cero es para indicar donde se inicia el array, significa que el primer número es 0\n",
        "for i in range (1, n+1):    # i = cupón, desde 1 hasta el n+1 (por un tema de Phyton)\n",
        "\tif i < n:\t\t\t#si el cupón que se trata no es el último\n",
        "\t\tflujos.append(cupon * nominal) #para añadir el cupón en euros en cada año\n",
        "\telif i == n:\t\t\t# elif = y en otro caso    == significa igual cuando se compara algo\n",
        "\t\tflujos.append(cupon * nominal + nominal)\n",
        "print(\"flujos de caja: \", flujos)\n",
        "\n",
        "# CALCULAR EL PRECIO DEL BONO CON LA ETTI\n",
        "precio = 0 \t\t\t\t\t\t#inicializo la variable precio en cero\n",
        "for i in range (1, n + 1):\n",
        "\tprecio += flujos [i] / (1 + etti [i-1])**i  # i-1 porque debe restarse una posición ya que en el año 0 no hay ETTI\n",
        "print(\"Precio del bono: \", precio)\n",
        "bono = flujos [:]\t\t\t\t# [:] permite copiar los flujos como un array diferente\n",
        "bono[0] = -precio \t\t\t# con signo negativo para considerarlo como inversión inicial\n",
        "\n",
        "# CALCULAR LA TIR = r\n",
        "tir = npf.irr(bono)\t\t\t#npf.irr es la librería de la Tir (en inglés)\n",
        "print(f\"La TIR del bono es: {tir:.6%}\")   # . Separador de decimales en inglés\n"
      ],
      "metadata": {
        "colab": {
          "base_uri": "https://localhost:8080/"
        },
        "id": "0k6sQzmRj5bM",
        "outputId": "06d58388-d9ab-4867-bd79-ff636ef10aa7"
      },
      "execution_count": null,
      "outputs": [
        {
          "output_type": "stream",
          "name": "stdout",
          "text": [
            "flujos de caja:  [0, 100.0, 100.0, 100.0, 100.0, 1100.0]\n",
            "Precio del bono:  1030.9732059359958\n",
            "La TIR del bono es: 9.199575%\n"
          ]
        }
      ]
    }
  ]
}