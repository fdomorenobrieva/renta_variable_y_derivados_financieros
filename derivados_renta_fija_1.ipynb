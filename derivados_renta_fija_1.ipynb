{
  "nbformat": 4,
  "nbformat_minor": 0,
  "metadata": {
    "colab": {
      "provenance": [],
      "authorship_tag": "ABX9TyPOuYqr3GONFwp2Xzy82fgQ",
      "include_colab_link": true
    },
    "kernelspec": {
      "name": "python3",
      "display_name": "Python 3"
    },
    "language_info": {
      "name": "python"
    }
  },
  "cells": [
    {
      "cell_type": "markdown",
      "metadata": {
        "id": "view-in-github",
        "colab_type": "text"
      },
      "source": [
        "<a href=\"https://colab.research.google.com/github/fdomorenobrieva/renta_variable_y_derivados_financieros/blob/main/derivados_renta_fija_1.ipynb\" target=\"_parent\"><img src=\"https://colab.research.google.com/assets/colab-badge.svg\" alt=\"Open In Colab\"/></a>"
      ]
    },
    {
      "cell_type": "code",
      "execution_count": null,
      "metadata": {
        "id": "UDHh3mop-D9l"
      },
      "outputs": [],
      "source": []
    },
    {
      "cell_type": "markdown",
      "source": [
        "## Programación en Python"
      ],
      "metadata": {
        "id": "kI4SlAA7Bw1A"
      }
    },
    {
      "cell_type": "code",
      "source": [
        "print(\"Bienvenidos al mundo de las finanzas\")"
      ],
      "metadata": {
        "colab": {
          "base_uri": "https://localhost:8080/"
        },
        "id": "oCF3RRrdDdMT",
        "outputId": "cfe92257-3e46-46ff-f82a-d9a18a756032"
      },
      "execution_count": 1,
      "outputs": [
        {
          "output_type": "stream",
          "name": "stdout",
          "text": [
            "Bienvenidos al mundo de las finanzas\n"
          ]
        }
      ]
    },
    {
      "cell_type": "markdown",
      "source": [
        "## VAN y TIR\n",
        "### VAN = NPV\n",
        "### TIR = IRR"
      ],
      "metadata": {
        "id": "IwqSdtF1CLiL"
      }
    },
    {
      "cell_type": "code",
      "source": [
        "pip install numpy-financial"
      ],
      "metadata": {
        "colab": {
          "base_uri": "https://localhost:8080/"
        },
        "id": "9U0uFnDYG2qO",
        "outputId": "7ae15ccd-2437-4733-9afa-65ae251b8aeb"
      },
      "execution_count": 2,
      "outputs": [
        {
          "output_type": "stream",
          "name": "stdout",
          "text": [
            "Collecting numpy-financial\n",
            "  Downloading numpy_financial-1.0.0-py3-none-any.whl.metadata (2.2 kB)\n",
            "Requirement already satisfied: numpy>=1.15 in /usr/local/lib/python3.10/dist-packages (from numpy-financial) (1.26.4)\n",
            "Downloading numpy_financial-1.0.0-py3-none-any.whl (14 kB)\n",
            "Installing collected packages: numpy-financial\n",
            "Successfully installed numpy-financial-1.0.0\n"
          ]
        }
      ]
    },
    {
      "cell_type": "code",
      "source": [
        "import numpy_financial as npf\n",
        "cash_flows = [-600_000, 100_000, 150_000, 200_000, 250_000, 300_000]\n",
        "discount_rate = 0.1\n",
        "van = npf.npv(discount_rate, cash_flows)\n",
        "print(f\"Valor Actual Neto ({discount_rate:.2%}) = {van:,.2f} €\")"
      ],
      "metadata": {
        "colab": {
          "base_uri": "https://localhost:8080/"
        },
        "id": "U29bkOnoghqH",
        "outputId": "cfc68f81-06c9-421f-b624-e57da207b38b"
      },
      "execution_count": 5,
      "outputs": [
        {
          "output_type": "stream",
          "name": "stdout",
          "text": [
            "Valor Actual Neto (10.00%) = 122,168.75 €\n"
          ]
        }
      ]
    }
  ]
}