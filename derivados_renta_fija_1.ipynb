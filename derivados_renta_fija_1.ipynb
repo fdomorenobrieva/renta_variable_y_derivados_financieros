{
  "nbformat": 4,
  "nbformat_minor": 0,
  "metadata": {
    "colab": {
      "provenance": [],
      "authorship_tag": "ABX9TyNHD7sB9AN06n3ArViAFGyM",
      "include_colab_link": true
    },
    "kernelspec": {
      "name": "python3",
      "display_name": "Python 3"
    },
    "language_info": {
      "name": "python"
    }
  },
  "cells": [
    {
      "cell_type": "markdown",
      "metadata": {
        "id": "view-in-github",
        "colab_type": "text"
      },
      "source": [
        "<a href=\"https://colab.research.google.com/github/fdomorenobrieva/renta_variable_y_derivados_financieros/blob/main/derivados_renta_fija_1.ipynb\" target=\"_parent\"><img src=\"https://colab.research.google.com/assets/colab-badge.svg\" alt=\"Open In Colab\"/></a>"
      ]
    },
    {
      "cell_type": "code",
      "execution_count": null,
      "metadata": {
        "id": "UDHh3mop-D9l"
      },
      "outputs": [],
      "source": []
    },
    {
      "cell_type": "markdown",
      "source": [
        "## Programación en Python"
      ],
      "metadata": {
        "id": "kI4SlAA7Bw1A"
      }
    },
    {
      "cell_type": "code",
      "source": [
        "print(\"Bienvenidos al mundo de las finanzas\")"
      ],
      "metadata": {
        "colab": {
          "base_uri": "https://localhost:8080/"
        },
        "id": "oCF3RRrdDdMT",
        "outputId": "cfe92257-3e46-46ff-f82a-d9a18a756032"
      },
      "execution_count": null,
      "outputs": [
        {
          "output_type": "stream",
          "name": "stdout",
          "text": [
            "Bienvenidos al mundo de las finanzas\n"
          ]
        }
      ]
    },
    {
      "cell_type": "markdown",
      "source": [
        "## VAN y TIR\n",
        "### VAN = NPV\n",
        "### TIR = IRR"
      ],
      "metadata": {
        "id": "IwqSdtF1CLiL"
      }
    },
    {
      "cell_type": "code",
      "source": [
        "pip install numpy-financial"
      ],
      "metadata": {
        "colab": {
          "base_uri": "https://localhost:8080/"
        },
        "id": "9U0uFnDYG2qO",
        "outputId": "6637202c-a424-4867-fd50-22ab2daefdd2"
      },
      "execution_count": 4,
      "outputs": [
        {
          "output_type": "stream",
          "name": "stdout",
          "text": [
            "Collecting numpy-financial\n",
            "  Downloading numpy_financial-1.0.0-py3-none-any.whl.metadata (2.2 kB)\n",
            "Requirement already satisfied: numpy>=1.15 in /usr/local/lib/python3.10/dist-packages (from numpy-financial) (1.26.4)\n",
            "Downloading numpy_financial-1.0.0-py3-none-any.whl (14 kB)\n",
            "Installing collected packages: numpy-financial\n",
            "Successfully installed numpy-financial-1.0.0\n"
          ]
        }
      ]
    },
    {
      "cell_type": "code",
      "source": [
        "import numpy_financial as npf\n",
        "cash_flows = [-700_000, 100_000, 150_000, 200_000, 250_000, 300_000]\n",
        "discount_rate = 0.1\n",
        "van = npf.npv(discount_rate, cash_flows)\n",
        "print(f\"Net Present Value ({discount_rate:.2%}) = {van:,.2f} €\")"
      ],
      "metadata": {
        "colab": {
          "base_uri": "https://localhost:8080/"
        },
        "id": "U29bkOnoghqH",
        "outputId": "fed31449-262f-4e92-8dca-50e35efbed81"
      },
      "execution_count": 47,
      "outputs": [
        {
          "output_type": "stream",
          "name": "stdout",
          "text": [
            "Net Present Value (10.00%) = 22,168.75 €\n"
          ]
        }
      ]
    },
    {
      "cell_type": "code",
      "source": [
        "tir=npf.irr(cash_flows)\n",
        "print(f\"Internal Rate of Return: {tir:.2%}\")\n"
      ],
      "metadata": {
        "colab": {
          "base_uri": "https://localhost:8080/"
        },
        "id": "T81c-9Fvmyif",
        "outputId": "61bff5e3-00e9-4d71-add1-6f7db6d36c11"
      },
      "execution_count": 48,
      "outputs": [
        {
          "output_type": "stream",
          "name": "stdout",
          "text": [
            "Internal Rate of Return: 11.04%\n"
          ]
        }
      ]
    },
    {
      "cell_type": "code",
      "source": [
        "initial_investment = cash_flows [0]\n",
        "cash_flows[0] = 0\n",
        "van = initial_investment + npf.npv(discount_rate, cash_flows)\n",
        "print (van)"
      ],
      "metadata": {
        "colab": {
          "base_uri": "https://localhost:8080/"
        },
        "id": "6iNBPqOMzGRw",
        "outputId": "6ac3a984-9e26-4b2f-dd0d-d7b714f02c99"
      },
      "execution_count": 49,
      "outputs": [
        {
          "output_type": "stream",
          "name": "stdout",
          "text": [
            "22168.753997180844\n"
          ]
        }
      ]
    },
    {
      "cell_type": "markdown",
      "source": [
        "### Programar el VAN\n",
        "* Valor Actual Neto\n",
        "* $A$ = Desembolso inicial\n",
        "* $Q_t$ = Flujos de caja desde $t=1$ hasta $t=n$\n",
        "* $k$ = tasa de descuento\n",
        "\n",
        "$$ \\mathrm{VAN} = -A + \\sum_{t=1}^n{\\frac{Q_t}{(1+k)^t}}$$\n"
      ],
      "metadata": {
        "id": "JPr6_SXL4Ztf"
      }
    },
    {
      "cell_type": "code",
      "source": [
        "def van (tasa, flujos):\n",
        "  total = 0\n",
        "  for i, flujo in enumerate (flujos):\n",
        "    total += flujo / (1 + tasa)**i\n",
        "  return total\n",
        "\n",
        "tasa = 0.1\n",
        "flujos = [-700_000, 100_000, 150_000, 200_000, 250_000, 300_000]\n",
        "print(f\"VAN= {van(tasa, flujos):,.2f} €\")\n"
      ],
      "metadata": {
        "colab": {
          "base_uri": "https://localhost:8080/"
        },
        "id": "dkrT8KUSGIcD",
        "outputId": "9339c1cc-3c53-4bd4-9159-27a340847e06"
      },
      "execution_count": 78,
      "outputs": [
        {
          "output_type": "stream",
          "name": "stdout",
          "text": [
            "VAN= 22,168.75 €\n"
          ]
        }
      ]
    }
  ]
}