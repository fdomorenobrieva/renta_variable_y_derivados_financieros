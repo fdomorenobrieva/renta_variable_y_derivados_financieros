{
  "nbformat": 4,
  "nbformat_minor": 0,
  "metadata": {
    "colab": {
      "provenance": [],
      "authorship_tag": "ABX9TyMLuBgaWefut5bzGEfnpXez",
      "include_colab_link": true
    },
    "kernelspec": {
      "name": "python3",
      "display_name": "Python 3"
    },
    "language_info": {
      "name": "python"
    }
  },
  "cells": [
    {
      "cell_type": "markdown",
      "metadata": {
        "id": "view-in-github",
        "colab_type": "text"
      },
      "source": [
        "<a href=\"https://colab.research.google.com/github/fdomorenobrieva/renta_variable_y_derivados_financieros/blob/main/derivados_01.ipynb\" target=\"_parent\"><img src=\"https://colab.research.google.com/assets/colab-badge.svg\" alt=\"Open In Colab\"/></a>"
      ]
    },
    {
      "cell_type": "code",
      "execution_count": null,
      "metadata": {
        "id": "c1H0SyJwhfHl"
      },
      "outputs": [],
      "source": []
    },
    {
      "cell_type": "markdown",
      "source": [
        "#Python en Finanzas\n",
        "## Iniciando Python\n",
        "Lo habitual es decir \"Hola Mundo\" cuando se comienza a programar en un lenguaje."
      ],
      "metadata": {
        "id": "O3gF4wDRjxPy"
      }
    },
    {
      "cell_type": "code",
      "source": [
        "print(\"Hola Mundo\")"
      ],
      "metadata": {
        "colab": {
          "base_uri": "https://localhost:8080/"
        },
        "id": "yrlVm2NLmnGH",
        "outputId": "d35ac0df-6ac0-4bf7-d31a-d92d294a1166"
      },
      "execution_count": 1,
      "outputs": [
        {
          "output_type": "stream",
          "name": "stdout",
          "text": [
            "Hola Mundo\n"
          ]
        }
      ]
    },
    {
      "cell_type": "markdown",
      "source": [
        "##Variables"
      ],
      "metadata": {
        "id": "CkyiQ-r7rOQW"
      }
    },
    {
      "cell_type": "code",
      "source": [],
      "metadata": {
        "id": "QdvQ5S6M5yIQ"
      },
      "execution_count": null,
      "outputs": []
    },
    {
      "cell_type": "code",
      "source": [
        "x=1.8\n",
        "print(x)\n",
        "print (type(x))"
      ],
      "metadata": {
        "colab": {
          "base_uri": "https://localhost:8080/"
        },
        "id": "p1duX2GArR7c",
        "outputId": "a067eb58-adc0-48d2-f8a0-4f95ecfec336"
      },
      "execution_count": 6,
      "outputs": [
        {
          "output_type": "stream",
          "name": "stdout",
          "text": [
            "1.8\n",
            "<class 'float'>\n"
          ]
        }
      ]
    }
  ]
}